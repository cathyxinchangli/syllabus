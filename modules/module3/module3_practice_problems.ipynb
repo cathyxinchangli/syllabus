{
 "cells": [
  {
   "cell_type": "markdown",
   "metadata": {},
   "source": [
    "# Practice problems for Module 3\n",
    "\n",
    "In Module 3, we are refreshing our Python programming skills."
   ]
  },
  {
   "cell_type": "code",
   "execution_count": 24,
   "metadata": {},
   "outputs": [],
   "source": [
    "import numpy as np\n",
    "import time"
   ]
  },
  {
   "cell_type": "markdown",
   "metadata": {},
   "source": [
    "## Problem 1\n",
    "\n",
    "In data science, a common metric is mean squared error:\n",
    "\n",
    "\\begin{equation*}\n",
    "\\operatorname{MSE}=\\frac{1}{n}\\sum_{i=1}^n(Y_i-\\hat{Y_i})^2,\n",
    "\\end{equation*}\n",
    "\n",
    "where $Y_i$ is the predicted value and $\\hat{Y_i}$ is the observed value, for observation $i$ of $n$ observations.\n",
    "\n",
    "Write a function that returns the mean squared error between numpy arrays <code>y</code> and <code>y_hat</code>."
   ]
  },
  {
   "cell_type": "code",
   "execution_count": 3,
   "metadata": {},
   "outputs": [],
   "source": [
    "def mse(y, y_hat):\n",
    "    # Your code here"
   ]
  },
  {
   "cell_type": "markdown",
   "metadata": {},
   "source": [
    "### Problem 1 test"
   ]
  },
  {
   "cell_type": "code",
   "execution_count": 4,
   "metadata": {},
   "outputs": [
    {
     "name": "stdout",
     "output_type": "stream",
     "text": [
      "4.666666666666667\n"
     ]
    }
   ],
   "source": [
    "y = np.array([1, 2, 3])\n",
    "y_hat = np.array([2, 4, 6])\n",
    "\n",
    "print(mse(y, y_hat))\n",
    "# result should be 4.666666666666667"
   ]
  },
  {
   "cell_type": "markdown",
   "metadata": {},
   "source": [
    "## Problem 2\n",
    "\n",
    "Write a function that takes a list <code>l</code> and returns a new list that contains the sorted elements of the first list minus all the duplicates."
   ]
  },
  {
   "cell_type": "code",
   "execution_count": 9,
   "metadata": {},
   "outputs": [],
   "source": [
    "def unique(l):\n",
    "    # Your code here"
   ]
  },
  {
   "cell_type": "markdown",
   "metadata": {},
   "source": [
    "### Problem 2 tests"
   ]
  },
  {
   "cell_type": "code",
   "execution_count": 10,
   "metadata": {},
   "outputs": [
    {
     "name": "stdout",
     "output_type": "stream",
     "text": [
      "[1, 2, 3]\n"
     ]
    }
   ],
   "source": [
    "l = [1, 2, 3, 2]\n",
    "print(unique(l))\n",
    "# result should be [1, 2, 3]"
   ]
  },
  {
   "cell_type": "code",
   "execution_count": 12,
   "metadata": {},
   "outputs": [
    {
     "name": "stdout",
     "output_type": "stream",
     "text": [
      "[2, 4, 6, 8]\n"
     ]
    }
   ],
   "source": [
    "l = [2, 8, 4, 6, 4, 8, 2]\n",
    "print(unique(l))\n",
    "# result should be [2, 4, 6, 8]"
   ]
  },
  {
   "cell_type": "markdown",
   "metadata": {},
   "source": [
    "## Problem 3\n",
    "\n",
    "See below the array <code>a</code> and two different methods for calculating its mean:"
   ]
  },
  {
   "cell_type": "code",
   "execution_count": 32,
   "metadata": {},
   "outputs": [
    {
     "name": "stdout",
     "output_type": "stream",
     "text": [
      "a.mean()=0.500064, completed in 0.048s\n",
      "mean(a)=0.500064, completed in 1.5e+02s\n"
     ]
    }
   ],
   "source": [
    "a = np.random.random((10000,10000))\n",
    "\n",
    "t0 = time.clock()\n",
    "mean1 = a.mean()\n",
    "t1 = time.clock()\n",
    "print(\"a.mean()={:g}, completed in {:.2g}s\".format(mean1, t1-t0))\n",
    "\n",
    "\n",
    "def mean(a):\n",
    "    s = 0.0\n",
    "    for v in np.nditer(a):\n",
    "        s = s+v\n",
    "    return s / a.size\n",
    "\n",
    "t0 = time.clock()\n",
    "mean2 = mean(a)\n",
    "t1 = time.clock()\n",
    "print(\"mean(a)={:g}, completed in {:.2g}s\".format(mean(a), t1-t0))"
   ]
  },
  {
   "cell_type": "markdown",
   "metadata": {},
   "source": [
    "**Question**: Why is the amount of time required to calculate the mean so different between the two methods?"
   ]
  },
  {
   "cell_type": "markdown",
   "metadata": {},
   "source": [
    "**Answer**: ...Your answer here..."
   ]
  },
  {
   "cell_type": "markdown",
   "metadata": {},
   "source": [
    "## Problem 4\n",
    "\n",
    "There are many metrics that can be useful for describing the relationship between two arrays:\n",
    "\n",
    "\\begin{equation*}\n",
    "\\operatorname{L0 norm} = \\operatorname{count} \\left(Y_i-\\hat{Y_i}  \\neq 0 \\right),\n",
    "\\end{equation*}\n",
    "\n",
    "\\begin{equation*}\n",
    "\\operatorname{L1 norm}=\\frac{1}{n}\\sum_{i=1}^n | Y_i-\\hat{Y_i} |,\n",
    "\\end{equation*}\n",
    "\n",
    "\n",
    "\\begin{equation*}\n",
    "\\operatorname{L2 norm or MSE}=\\frac{1}{n}\\sum_{i=1}^n(Y_i-\\hat{Y_i})^2,\n",
    "\\end{equation*}\n",
    "\n",
    "and\n",
    "\n",
    "\\begin{equation*}\n",
    "\\operatorname{L \\infty norm}=\\operatorname{argmax} | Y_i-\\hat{Y_i} |,\n",
    "\\end{equation*}\n",
    "\n",
    "for example.\n",
    "\n",
    "Create a Python Class that can be initialized with two arrays and has methods to compute the L0, L1, L2, and L∞ norms of the differences between the arrays."
   ]
  },
  {
   "cell_type": "code",
   "execution_count": 33,
   "metadata": {},
   "outputs": [],
   "source": [
    "class Normy():\n",
    "    def __init__(self, y, y_hat):\n",
    "        # Your code here\n",
    "    \n",
    "    def l0(self):\n",
    "        # Your code here\n",
    "    \n",
    "    def l1(self):\n",
    "        # Your code here\n",
    "        \n",
    "    def l2(self):\n",
    "        # Your code here\n",
    "    \n",
    "    def linf(self):\n",
    "        # Your code here"
   ]
  },
  {
   "cell_type": "markdown",
   "metadata": {},
   "source": [
    "### Problem 4 tests"
   ]
  },
  {
   "cell_type": "code",
   "execution_count": 34,
   "metadata": {},
   "outputs": [
    {
     "name": "stdout",
     "output_type": "stream",
     "text": [
      "L0: 2\n",
      "L1: 1.6666666666666667\n",
      "L2: 4.333333333333333\n",
      "L inf: 2\n"
     ]
    }
   ],
   "source": [
    "a = np.array([1, 2, 3])\n",
    "b = np.array([1, 4, 6])\n",
    "\n",
    "n = Normy(a, b)\n",
    "print(\"L0:\", n.l0())\n",
    "# Should say L0: 2\n",
    "print(\"L1:\", n.l1())\n",
    "# Should say L1: 1.6666666666666667\n",
    "print(\"L2:\", n.l2())\n",
    "# Should say L2: 4.333333333333333\n",
    "print(\"L inf:\", n.linf())\n",
    "# Should say L inf: 2"
   ]
  },
  {
   "cell_type": "code",
   "execution_count": null,
   "metadata": {},
   "outputs": [],
   "source": []
  }
 ],
 "metadata": {
  "kernelspec": {
   "display_name": "Python 3",
   "language": "python",
   "name": "python3"
  },
  "language_info": {
   "codemirror_mode": {
    "name": "ipython",
    "version": 3
   },
   "file_extension": ".py",
   "mimetype": "text/x-python",
   "name": "python",
   "nbconvert_exporter": "python",
   "pygments_lexer": "ipython3",
   "version": "3.5.3"
  }
 },
 "nbformat": 4,
 "nbformat_minor": 4
}
